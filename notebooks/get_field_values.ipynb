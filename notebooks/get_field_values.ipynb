{
 "cells": [
  {
   "cell_type": "code",
   "execution_count": 4,
   "metadata": {},
   "outputs": [],
   "source": [
    "from bs4 import BeautifulSoup\n",
    "import requests"
   ]
  },
  {
   "cell_type": "code",
   "execution_count": 21,
   "metadata": {},
   "outputs": [],
   "source": [
    "from bs4 import BeautifulSoup\n",
    "import requests\n",
    "import time, os\n",
    "\n",
    "from selenium import webdriver\n",
    "from selenium.webdriver.common.keys import Keys"
   ]
  },
  {
   "cell_type": "markdown",
   "metadata": {},
   "source": [
    "from re import sub\n",
    "from decimal import Decimal"
   ]
  },
  {
   "cell_type": "code",
   "execution_count": 298,
   "metadata": {},
   "outputs": [
    {
     "data": {
      "text/plain": [
       "('$1,530,000',\n",
       " '4 Beds',\n",
       " '1 Bath',\n",
       " '4,640 sqft',\n",
       " 'Seahurst',\n",
       " 'Seattle, WA 98166',\n",
       " '15929 Maplewild Ave SW',\n",
       " 'Last Sold: Apr 28, 2020',\n",
       " 'Single Family Home',\n",
       " '$330/sqft',\n",
       " 'Lot Size: 0.28 acres',\n",
       " 'Built in 1993',\n",
       " 'Heating: Forced Air',\n",
       " '$17,850',\n",
       " 'This property is no longer available to rent or to buy. This description is from May 24, 2019',\n",
       " \"Three Tree Point Waterfront Living. Private from the street & hidden in a lush garden, the property offers a sanctuary while being close to shops, restaurants, airport, Light Rail & Downtown Seattle. Open floor plan, walls of picture windows & sprawling decks-patios. Stunning West-facing views of the water, the Point, islands & mountains from all 3 floors. Live on the main level; rest on the floor below & play on the water's edge. Buoy + tidelands. Spacious-comfortable perfect for entertaining.\")"
      ]
     },
     "execution_count": 298,
     "metadata": {},
     "output_type": "execute_result"
    }
   ],
   "source": [
    "myfile = \"page_source2265\"\n",
    "with open(myfile, \"r\") as file:\n",
    "    page = file.read()\n",
    "soup = BeautifulSoup(page,'lxml')\n",
    "outp = soup.find('div', {'class':'Grid__GridContainer-sc-5ig2n4-1 eVbKXM'})\n",
    "\n",
    "# info at the top: price, # of bed & bath, sqft etc.\n",
    "price = soup.find('div', {'class':'Text__TextBase-sc-1i9uasc-0-div Text__TextContainerBase-sc-1i9uasc-1 qAaUO'}).text\n",
    "bed = soup.find_all('li', {'data-testid':'bed'})[1].text\n",
    "bath = soup.find_all('li', {'data-testid':'bath'})[1].text\n",
    "sqft = soup.find_all('li', {'data-testid':'floor'})[1].text\n",
    "area = outp.find('a').text\n",
    "zipcode = outp.find_all('span')[1].text\n",
    "address = outp.find_all('span')[0].text\n",
    "date_sold = soup.find('div', {'class':'Text__TextBase-sc-1i9uasc-0-div Text__TextContainerBase-sc-1i9uasc-1 cERLyX'}).text\n",
    "\n",
    "\n",
    "# info in the bottom: home_type, sqft, lot_size, year_built\n",
    "\n",
    "outp2 = soup.find('section', {'id': 'main-content'})\n",
    "home_detail_summ = outp2.find('div', {'data-testid': 'home-details-summary-container'})\n",
    "features_detail = outp2.find('ul',{'data-testid': 'home-features'})\n",
    "features_detail.find_all('li', {'class':'FeatureList__FeatureListItem-iipbki-0 fKDDGQ'})\n",
    "\n",
    "home_type = features_detail.find_all('li', {'class':'FeatureList__FeatureListItem-iipbki-0 fKDDGQ'})[0].text\n",
    "sqft_price = features_detail.find_all('li', {'class':'FeatureList__FeatureListItem-iipbki-0 fKDDGQ'})[1].text\n",
    "lot_size = features_detail.find_all('li', {'class':'FeatureList__FeatureListItem-iipbki-0 fKDDGQ'})[2].text\n",
    "year_built = features_detail.find_all('li', {'class':'FeatureList__FeatureListItem-iipbki-0 fKDDGQ'})[3].text\n",
    "year_or_hoafee = features_detail.find_all('li', {'class':'FeatureList__FeatureListItem-iipbki-0 fKDDGQ'})[4].text\n",
    "\n",
    "# get tax, and text\n",
    "tax = soup.find(text='Tax').findNext().text\n",
    "disc = soup.find('div', {'data-testid':'home-description-text-description-sub-header'}).text\n",
    "text = soup.find('div', {'data-testid':'home-description-text-description-text'}).text\n",
    "\n",
    "\n",
    "\n",
    "price, bed,bath,sqft, area,zipcode,address, date_sold, home_type, sqft_price, lot_size, year_built, year_or_hoafee, tax, disc,  text\n",
    "\n",
    "\n"
   ]
  },
  {
   "cell_type": "code",
   "execution_count": 236,
   "metadata": {},
   "outputs": [
    {
     "data": {
      "text/plain": [
       "(940000,\n",
       " 3,\n",
       " 2,\n",
       " 1880,\n",
       " 'Genesee',\n",
       " 98116,\n",
       " '4042 48th Ave SW',\n",
       " datetime.datetime(2020, 6, 30, 0, 0),\n",
       " 'Single Family Home',\n",
       " 500,\n",
       " 8625,\n",
       " 'Built in 1985',\n",
       " 'Heating: Baseboard')"
      ]
     },
     "execution_count": 236,
     "metadata": {},
     "output_type": "execute_result"
    }
   ],
   "source": [
    "myfile = \"page_source32\"\n",
    "with open(myfile, \"r\") as file:\n",
    "    page = file.read()\n",
    "soup = BeautifulSoup(page,'lxml')\n",
    "outp = soup.find('div', {'class':'Grid__GridContainer-sc-5ig2n4-1 eVbKXM'})\n",
    "\n",
    "# info at the top: price, # of bed & bath, sqft etc.\n",
    "price = soup.find('div', {'class':'Text__TextBase-sc-1i9uasc-0-div Text__TextContainerBase-sc-1i9uasc-1 qAaUO'}).text\n",
    "price = int(price.strip('$').replace(',',''))\n",
    "\n",
    "bed = soup.find_all('li', {'data-testid':'bed'})[1].text\n",
    "bed = int(bed.split(\" \")[0])\n",
    "\n",
    "bath = soup.find_all('li', {'data-testid':'bath'})[1].text\n",
    "bath = int(bath.split(\" \")[0])\n",
    "\n",
    "sqft = soup.find_all('li', {'data-testid':'floor'})[1].text\n",
    "sqft = sqft.split(\" \")[0] \n",
    "sqft = int(sqft.strip('$').replace(',',''))\n",
    "\n",
    "area = outp.find('a').text\n",
    "\n",
    "zipcode = outp.find_all('span')[1].text\n",
    "zipcode = (zipcode.split(',')[1]).split(' ')[2]\n",
    "zipcode = int(zipcode.strip('$').replace(',',''))\n",
    "\n",
    "address = outp.find_all('span')[0].text\n",
    "\n",
    "date_sold = soup.find('div', {'class':'Text__TextBase-sc-1i9uasc-0-div Text__TextContainerBase-sc-1i9uasc-1 cERLyX'}).text\n",
    "date_sold = date_sold.split(':')[1]\n",
    "date_sold = datetime.strptime(date_sold.strip(), '%b %d, %Y')\n",
    "\n",
    "# info in the bottom: home_type, sqft, lot_size, year_built\n",
    "\n",
    "outp2 = soup.find('section', {'id': 'main-content'})\n",
    "home_detail_summ = outp2.find('div', {'data-testid': 'home-details-summary-container'})\n",
    "features_detail = outp2.find('ul',{'data-testid': 'home-features'})\n",
    "features_detail.find_all('li', {'class':'FeatureList__FeatureListItem-iipbki-0 fKDDGQ'})\n",
    "\n",
    "home_type = features_detail.find_all('li', {'class':'FeatureList__FeatureListItem-iipbki-0 fKDDGQ'})[0].text\n",
    "\n",
    "sqft_price = features_detail.find_all('li', {'class':'FeatureList__FeatureListItem-iipbki-0 fKDDGQ'})[1].text\n",
    "sqft_price = int((sqft_price.strip('$')).split('/')[0])\n",
    "\n",
    "lot_size = features_detail.find_all('li', {'class':'FeatureList__FeatureListItem-iipbki-0 fKDDGQ'})[2].text\n",
    "lot_size = ((((lot_size.strip())).split(':')[1]).strip()).split(' ')[0]\n",
    "lot_size = int(lot_size.replace(',',''))\n",
    "\n",
    "\n",
    "\n",
    "year_built = features_detail.find_all('li', {'class':'FeatureList__FeatureListItem-iipbki-0 fKDDGQ'})[3].text\n",
    "year_or_hoafee = features_detail.find_all('li', {'class':'FeatureList__FeatureListItem-iipbki-0 fKDDGQ'})[4].text\n",
    "\n",
    "price, bed,bath,sqft, area,zipcode,address, date_sold, home_type, sqft_price, lot_size, year_built, year_or_hoafee"
   ]
  },
  {
   "cell_type": "code",
   "execution_count": 208,
   "metadata": {},
   "outputs": [
    {
     "data": {
      "text/plain": [
       "8625"
      ]
     },
     "execution_count": 208,
     "metadata": {},
     "output_type": "execute_result"
    }
   ],
   "source": [
    "int(lot_size)"
   ]
  },
  {
   "cell_type": "code",
   "execution_count": null,
   "metadata": {},
   "outputs": [],
   "source": [
    "datetime.strptime('6-Mar-2016', '%d-%b-%Y').strftime('%Y-%m-%d')\n",
    "\n",
    "Jun 30, 2020"
   ]
  },
  {
   "cell_type": "code",
   "execution_count": 225,
   "metadata": {},
   "outputs": [],
   "source": [
    "from datetime import datetime"
   ]
  },
  {
   "cell_type": "code",
   "execution_count": 230,
   "metadata": {},
   "outputs": [],
   "source": [
    "d = datetime.strptime('Jun 30, 2020', '%b %d, %Y').strftime(\"%d/%m/%Y\")"
   ]
  },
  {
   "cell_type": "code",
   "execution_count": 231,
   "metadata": {},
   "outputs": [
    {
     "data": {
      "text/plain": [
       "str"
      ]
     },
     "execution_count": 231,
     "metadata": {},
     "output_type": "execute_result"
    }
   ],
   "source": [
    "type(d)"
   ]
  },
  {
   "cell_type": "code",
   "execution_count": 234,
   "metadata": {},
   "outputs": [],
   "source": [
    "d = datetime.strptime(date_sold.strip(), '%b %d, %Y')"
   ]
  },
  {
   "cell_type": "code",
   "execution_count": 235,
   "metadata": {},
   "outputs": [
    {
     "data": {
      "text/plain": [
       "datetime.datetime(2020, 6, 30, 0, 0)"
      ]
     },
     "execution_count": 235,
     "metadata": {},
     "output_type": "execute_result"
    }
   ],
   "source": [
    "d\n"
   ]
  },
  {
   "cell_type": "code",
   "execution_count": 299,
   "metadata": {},
   "outputs": [
    {
     "data": {
      "text/plain": [
       "'/Users/maryamghaseri/Documents/Metis/Projects/Project 2'"
      ]
     },
     "execution_count": 299,
     "metadata": {},
     "output_type": "execute_result"
    }
   ],
   "source": [
    "pwd"
   ]
  },
  {
   "cell_type": "code",
   "execution_count": null,
   "metadata": {},
   "outputs": [],
   "source": []
  }
 ],
 "metadata": {
  "kernelspec": {
   "display_name": "Python 3",
   "language": "python",
   "name": "python3"
  },
  "language_info": {
   "codemirror_mode": {
    "name": "ipython",
    "version": 3
   },
   "file_extension": ".py",
   "mimetype": "text/x-python",
   "name": "python",
   "nbconvert_exporter": "python",
   "pygments_lexer": "ipython3",
   "version": "3.7.6"
  }
 },
 "nbformat": 4,
 "nbformat_minor": 2
}
