{
 "cells": [
  {
   "cell_type": "code",
   "execution_count": 7,
   "metadata": {},
   "outputs": [
    {
     "name": "stdout",
     "output_type": "stream",
     "text": [
      "/home/linuxbrew/.linuxbrew/bin:/home/linuxbrew/.linuxbrew/sbin:/home/arash/.local/bin:/home/arash/anaconda3/bin:/home/arash/anaconda3/condabin:/home/linuxbrew/.linuxbrew/bin:/home/linuxbrew/.linuxbrew/sbin:/home/arash/.local/bin:/usr/local/sbin:/usr/local/bin:/usr/sbin:/usr/bin:/sbin:/bin:/usr/games:/usr/local/games:/snap/bin\r\n"
     ]
    }
   ],
   "source": [
    "!echo $PATH"
   ]
  },
  {
   "cell_type": "code",
   "execution_count": 8,
   "metadata": {},
   "outputs": [],
   "source": [
    "from bs4 import BeautifulSoup\n",
    "import requests\n",
    "import time, os\n",
    "\n",
    "from selenium import webdriver\n",
    "from selenium.webdriver.common.keys import Keys\n",
    "\n",
    "import pickle  # https://wiki.python.org/moin/UsingPickle"
   ]
  },
  {
   "cell_type": "code",
   "execution_count": 9,
   "metadata": {},
   "outputs": [],
   "source": [
    "from selenium.webdriver.firefox.firefox_binary import FirefoxBinary\n",
    "\n",
    "binary = FirefoxBinary('/usr/bin/firefox')\n",
    "browser = webdriver.Firefox(firefox_binary=binary)"
   ]
  },
  {
   "cell_type": "code",
   "execution_count": 10,
   "metadata": {},
   "outputs": [],
   "source": [
    "driver = webdriver.Firefox()"
   ]
  },
  {
   "cell_type": "code",
   "execution_count": 12,
   "metadata": {},
   "outputs": [
    {
     "ename": "WebDriverException",
     "evalue": "Message: TypeError: this.curBrowser.contentBrowser is null\n",
     "output_type": "error",
     "traceback": [
      "\u001b[0;31m---------------------------------------------------------------------------\u001b[0m",
      "\u001b[0;31mWebDriverException\u001b[0m                        Traceback (most recent call last)",
      "\u001b[0;32m<ipython-input-12-3e3f92274a9d>\u001b[0m in \u001b[0;36m<module>\u001b[0;34m\u001b[0m\n\u001b[0;32m----> 1\u001b[0;31m \u001b[0mdriver\u001b[0m\u001b[0;34m.\u001b[0m\u001b[0mget\u001b[0m\u001b[0;34m(\u001b[0m\u001b[0;34m'https://www.trulia.com/sold/Seattle,WA/'\u001b[0m\u001b[0;34m)\u001b[0m\u001b[0;34m\u001b[0m\u001b[0;34m\u001b[0m\u001b[0m\n\u001b[0m",
      "\u001b[0;32m~/anaconda3/lib/python3.7/site-packages/selenium/webdriver/remote/webdriver.py\u001b[0m in \u001b[0;36mget\u001b[0;34m(self, url)\u001b[0m\n\u001b[1;32m    331\u001b[0m         \u001b[0mLoads\u001b[0m \u001b[0ma\u001b[0m \u001b[0mweb\u001b[0m \u001b[0mpage\u001b[0m \u001b[0;32min\u001b[0m \u001b[0mthe\u001b[0m \u001b[0mcurrent\u001b[0m \u001b[0mbrowser\u001b[0m \u001b[0msession\u001b[0m\u001b[0;34m.\u001b[0m\u001b[0;34m\u001b[0m\u001b[0;34m\u001b[0m\u001b[0m\n\u001b[1;32m    332\u001b[0m         \"\"\"\n\u001b[0;32m--> 333\u001b[0;31m         \u001b[0mself\u001b[0m\u001b[0;34m.\u001b[0m\u001b[0mexecute\u001b[0m\u001b[0;34m(\u001b[0m\u001b[0mCommand\u001b[0m\u001b[0;34m.\u001b[0m\u001b[0mGET\u001b[0m\u001b[0;34m,\u001b[0m \u001b[0;34m{\u001b[0m\u001b[0;34m'url'\u001b[0m\u001b[0;34m:\u001b[0m \u001b[0murl\u001b[0m\u001b[0;34m}\u001b[0m\u001b[0;34m)\u001b[0m\u001b[0;34m\u001b[0m\u001b[0;34m\u001b[0m\u001b[0m\n\u001b[0m\u001b[1;32m    334\u001b[0m \u001b[0;34m\u001b[0m\u001b[0m\n\u001b[1;32m    335\u001b[0m     \u001b[0;34m@\u001b[0m\u001b[0mproperty\u001b[0m\u001b[0;34m\u001b[0m\u001b[0;34m\u001b[0m\u001b[0m\n",
      "\u001b[0;32m~/anaconda3/lib/python3.7/site-packages/selenium/webdriver/remote/webdriver.py\u001b[0m in \u001b[0;36mexecute\u001b[0;34m(self, driver_command, params)\u001b[0m\n\u001b[1;32m    319\u001b[0m         \u001b[0mresponse\u001b[0m \u001b[0;34m=\u001b[0m \u001b[0mself\u001b[0m\u001b[0;34m.\u001b[0m\u001b[0mcommand_executor\u001b[0m\u001b[0;34m.\u001b[0m\u001b[0mexecute\u001b[0m\u001b[0;34m(\u001b[0m\u001b[0mdriver_command\u001b[0m\u001b[0;34m,\u001b[0m \u001b[0mparams\u001b[0m\u001b[0;34m)\u001b[0m\u001b[0;34m\u001b[0m\u001b[0;34m\u001b[0m\u001b[0m\n\u001b[1;32m    320\u001b[0m         \u001b[0;32mif\u001b[0m \u001b[0mresponse\u001b[0m\u001b[0;34m:\u001b[0m\u001b[0;34m\u001b[0m\u001b[0;34m\u001b[0m\u001b[0m\n\u001b[0;32m--> 321\u001b[0;31m             \u001b[0mself\u001b[0m\u001b[0;34m.\u001b[0m\u001b[0merror_handler\u001b[0m\u001b[0;34m.\u001b[0m\u001b[0mcheck_response\u001b[0m\u001b[0;34m(\u001b[0m\u001b[0mresponse\u001b[0m\u001b[0;34m)\u001b[0m\u001b[0;34m\u001b[0m\u001b[0;34m\u001b[0m\u001b[0m\n\u001b[0m\u001b[1;32m    322\u001b[0m             response['value'] = self._unwrap_value(\n\u001b[1;32m    323\u001b[0m                 response.get('value', None))\n",
      "\u001b[0;32m~/anaconda3/lib/python3.7/site-packages/selenium/webdriver/remote/errorhandler.py\u001b[0m in \u001b[0;36mcheck_response\u001b[0;34m(self, response)\u001b[0m\n\u001b[1;32m    240\u001b[0m                 \u001b[0malert_text\u001b[0m \u001b[0;34m=\u001b[0m \u001b[0mvalue\u001b[0m\u001b[0;34m[\u001b[0m\u001b[0;34m'alert'\u001b[0m\u001b[0;34m]\u001b[0m\u001b[0;34m.\u001b[0m\u001b[0mget\u001b[0m\u001b[0;34m(\u001b[0m\u001b[0;34m'text'\u001b[0m\u001b[0;34m)\u001b[0m\u001b[0;34m\u001b[0m\u001b[0;34m\u001b[0m\u001b[0m\n\u001b[1;32m    241\u001b[0m             \u001b[0;32mraise\u001b[0m \u001b[0mexception_class\u001b[0m\u001b[0;34m(\u001b[0m\u001b[0mmessage\u001b[0m\u001b[0;34m,\u001b[0m \u001b[0mscreen\u001b[0m\u001b[0;34m,\u001b[0m \u001b[0mstacktrace\u001b[0m\u001b[0;34m,\u001b[0m \u001b[0malert_text\u001b[0m\u001b[0;34m)\u001b[0m\u001b[0;34m\u001b[0m\u001b[0;34m\u001b[0m\u001b[0m\n\u001b[0;32m--> 242\u001b[0;31m         \u001b[0;32mraise\u001b[0m \u001b[0mexception_class\u001b[0m\u001b[0;34m(\u001b[0m\u001b[0mmessage\u001b[0m\u001b[0;34m,\u001b[0m \u001b[0mscreen\u001b[0m\u001b[0;34m,\u001b[0m \u001b[0mstacktrace\u001b[0m\u001b[0;34m)\u001b[0m\u001b[0;34m\u001b[0m\u001b[0;34m\u001b[0m\u001b[0m\n\u001b[0m\u001b[1;32m    243\u001b[0m \u001b[0;34m\u001b[0m\u001b[0m\n\u001b[1;32m    244\u001b[0m     \u001b[0;32mdef\u001b[0m \u001b[0m_value_or_default\u001b[0m\u001b[0;34m(\u001b[0m\u001b[0mself\u001b[0m\u001b[0;34m,\u001b[0m \u001b[0mobj\u001b[0m\u001b[0;34m,\u001b[0m \u001b[0mkey\u001b[0m\u001b[0;34m,\u001b[0m \u001b[0mdefault\u001b[0m\u001b[0;34m)\u001b[0m\u001b[0;34m:\u001b[0m\u001b[0;34m\u001b[0m\u001b[0;34m\u001b[0m\u001b[0m\n",
      "\u001b[0;31mWebDriverException\u001b[0m: Message: TypeError: this.curBrowser.contentBrowser is null\n"
     ]
    }
   ],
   "source": [
    "driver.get('https://www.trulia.com/sold/Seattle,WA/')"
   ]
  },
  {
   "cell_type": "markdown",
   "metadata": {},
   "source": [
    "soup = BeautifulSoup(driver.page_source, 'html.parser')"
   ]
  },
  {
   "cell_type": "markdown",
   "metadata": {},
   "source": [
    "len(driver.page_source)"
   ]
  },
  {
   "cell_type": "markdown",
   "metadata": {},
   "source": [
    "Repeat the steps above to create the a list containing the link from all the pages:"
   ]
  },
  {
   "cell_type": "code",
   "execution_count": 46,
   "metadata": {},
   "outputs": [],
   "source": [
    "# master_list = []\n",
    "# for i in range (1, 280):\n",
    "#     url = 'https://www.trulia.com/sold/Seattle,WA/' + str(i) + '_p'\n",
    "#     driver.get(url)\n",
    "#     time.sleep(15)\n",
    "#     soup = BeautifulSoup(driver.page_source, 'html.parser')\n",
    "#     master_list.extend([link.get('href') for link in soup.find('div', id = 'resultsColumn').find_all('a')][:30])\n",
    "#     if i%10 == 0:\n",
    "#         with open('Trulia_housing_data.pkl', 'wb') as picklefile:\n",
    "#             pickle.dump(master_list,picklefile)"
   ]
  },
  {
   "cell_type": "code",
   "execution_count": 133,
   "metadata": {},
   "outputs": [
    {
     "data": {
      "text/plain": [
       "8460"
      ]
     },
     "execution_count": 133,
     "metadata": {},
     "output_type": "execute_result"
    }
   ],
   "source": [
    "# len(master_list)"
   ]
  },
  {
   "cell_type": "code",
   "execution_count": 143,
   "metadata": {},
   "outputs": [],
   "source": [
    "# with open('Trulia_housing_dataArash.pkl', 'wb') as picklefile:\n",
    "#             pickle.dump(master_list,picklefile)"
   ]
  },
  {
   "cell_type": "code",
   "execution_count": 13,
   "metadata": {},
   "outputs": [],
   "source": [
    "target = \"Trulia_housing_dataArash.pkl\"\n",
    "if os.path.getsize(target) > 0:      \n",
    "    with open(target, \"rb\") as f:\n",
    "        unpickler = pickle.Unpickler(f)\n",
    "        # if file is not empty scores will be equal\n",
    "        # to the value unpickled\n",
    "        master_list = unpickler.load()\n"
   ]
  },
  {
   "cell_type": "code",
   "execution_count": 109,
   "metadata": {},
   "outputs": [],
   "source": [
    "# from http_request_randomizer.requests.proxy.requestProxy import RequestProxy\n",
    "# req_proxy = RequestProxy() #you may get different number of proxy when  you run this at each time\n",
    "# proxies = req_proxy.get_proxy_list() #this will create proxy list"
   ]
  },
  {
   "cell_type": "code",
   "execution_count": 110,
   "metadata": {},
   "outputs": [],
   "source": [
    "# us_proxies = [] #int is list of Indian proxy\n",
    "# for proxy in proxies:\n",
    "#     if proxy.country == 'United States':\n",
    "#         us_proxies.append(proxy)\n",
    "        \n",
    "# print(us_proxies)"
   ]
  },
  {
   "cell_type": "code",
   "execution_count": 111,
   "metadata": {},
   "outputs": [],
   "source": [
    "# PROXY = us_proxies[5].get_address()\n",
    "# webdriver.DesiredCapabilities.CHROME['proxy']={\n",
    "#     \"httpProxy\":PROXY,\n",
    "    \n",
    "#     \"proxyType\":\"MANUAL\",\n",
    "    \n",
    "# }"
   ]
  },
  {
   "cell_type": "code",
   "execution_count": 16,
   "metadata": {},
   "outputs": [
    {
     "data": {
      "text/plain": [
       "0"
      ]
     },
     "execution_count": 16,
     "metadata": {},
     "output_type": "execute_result"
    }
   ],
   "source": [
    "import subprocess\n",
    "os.system(\"expressvpn disconnect\")\n",
    "os.system(\"expressvpn connect 'United States'\")\n",
    "os.system(\"echo '!curl https://ipinfo.io/ip'\")"
   ]
  },
  {
   "cell_type": "code",
   "execution_count": 26,
   "metadata": {},
   "outputs": [],
   "source": [
    "time.sleep(10)"
   ]
  },
  {
   "cell_type": "code",
   "execution_count": 34,
   "metadata": {},
   "outputs": [
    {
     "data": {
      "text/plain": [
       "6001"
      ]
     },
     "execution_count": 34,
     "metadata": {},
     "output_type": "execute_result"
    }
   ],
   "source": [
    "i"
   ]
  },
  {
   "cell_type": "code",
   "execution_count": null,
   "metadata": {},
   "outputs": [
    {
     "name": "stdout",
     "output_type": "stream",
     "text": [
      "processing ./page_sources/page_source7960+ ...\n",
      "processing ./page_sources/page_source7970+ ...\n",
      "processing ./page_sources/page_source7980+ ...\n",
      "processing ./page_sources/page_source7990+ ...\n",
      "processing ./page_sources/page_source8000+ ...\n",
      "processing ./page_sources/page_source8010+ ...\n",
      "processing ./page_sources/page_source8020+ ...\n",
      "processing ./page_sources/page_source8030+ ...\n",
      "processing ./page_sources/page_source8040+ ...\n",
      "processing ./page_sources/page_source8050+ ...\n",
      "processing ./page_sources/page_source8060+ ...\n",
      "processing ./page_sources/page_source8070+ ...\n",
      "processing ./page_sources/page_source8080+ ...\n",
      "processing ./page_sources/page_source8090+ ...\n",
      "processing ./page_sources/page_source8100+ ...\n",
      "processing ./page_sources/page_source8110+ ...\n",
      "processing ./page_sources/page_source8120+ ...\n",
      "processing ./page_sources/page_source8130+ ...\n",
      "processing ./page_sources/page_source8140+ ...\n",
      "processing ./page_sources/page_source8150+ ...\n",
      "processing ./page_sources/page_source8160+ ...\n",
      "processing ./page_sources/page_source8170+ ...\n",
      "processing ./page_sources/page_source8180+ ...\n",
      "processing ./page_sources/page_source8190+ ...\n",
      "processing ./page_sources/page_source8200+ ...\n",
      "processing ./page_sources/page_source8210+ ...\n",
      "processing ./page_sources/page_source8220+ ...\n",
      "processing ./page_sources/page_source8230+ ...\n",
      "processing ./page_sources/page_source8240+ ...\n",
      "processing ./page_sources/page_source8250+ ...\n",
      "processing ./page_sources/page_source8260+ ...\n",
      "processing ./page_sources/page_source8270+ ...\n",
      "processing ./page_sources/page_source8280+ ...\n",
      "processing ./page_sources/page_source8290+ ...\n",
      "processing ./page_sources/page_source8300+ ...\n",
      "processing ./page_sources/page_source8310+ ...\n",
      "processing ./page_sources/page_source8320+ ...\n",
      "processing ./page_sources/page_source8330+ ...\n",
      "processing ./page_sources/page_source8340+ ...\n",
      "processing ./page_sources/page_source8350+ ...\n",
      "processing ./page_sources/page_source8360+ ...\n",
      "processing ./page_sources/page_source8370+ ...\n",
      "processing ./page_sources/page_source8380+ ...\n",
      "processing ./page_sources/page_source8390+ ...\n",
      "processing ./page_sources/page_source8400+ ...\n",
      "processing ./page_sources/page_source8410+ ...\n",
      "processing ./page_sources/page_source8420+ ...\n",
      "processing ./page_sources/page_source8430+ ...\n"
     ]
    }
   ],
   "source": [
    "options = webdriver.FirefoxOptions()\n",
    "options.add_argument('-headless')\n",
    "\n",
    "driver = webdriver.Firefox()\n",
    "\n",
    "i = 7959\n",
    "while i<9000:\n",
    "    link = master_list[i]\n",
    "    i += 1\n",
    "    if i%10 == 0:\n",
    "        print(f\"processing ./page_sources/page_source{i}+ ...\")\n",
    "    \n",
    "    driver.get('https://www.trulia.com' + link)\n",
    "\n",
    "    page_text = driver.page_source\n",
    "    \n",
    "    if \"<title>Access to this page has been denied.</title>\" in page_text:\n",
    "        print(f\"./page_sources/page_source{i} didn't load because of access denied.\" )\n",
    "        os.system(\"expressvpn disconnect\")\n",
    "        os.system(\"expressvpn connect 'United States'\")\n",
    "        print(\".... Switched IP Address ....\")\n",
    "        \n",
    "        driver.close()\n",
    "        driver = webdriver.Firefox()\n",
    "\n",
    "        i -= 1\n",
    "        time.sleep(30)\n",
    "    \n",
    "    with open(f\"./page_sources/page_source{i}\", \"w\") as f:\n",
    "        f.write(page_text)\n",
    "driver.close()\n"
   ]
  },
  {
   "cell_type": "code",
   "execution_count": 78,
   "metadata": {},
   "outputs": [
    {
     "data": {
      "text/plain": [
       "'/Users/maryamghaseri/Documents/Metis/Projects/Project 2'"
      ]
     },
     "execution_count": 78,
     "metadata": {},
     "output_type": "execute_result"
    }
   ],
   "source": [
    "import os\n",
    "os.getcwd()"
   ]
  },
  {
   "cell_type": "markdown",
   "metadata": {},
   "source": [
    "houses = ''\n",
    "for link in master_list[1:5]:\n",
    "    driver = webdriver.Chrome(chromedriver)\n",
    "    driver.get('https://www.trulia.com' + link)\n",
    "    soup = BeautifulSoup(driver.page_source, 'html.parser')\n",
    "    for jump, facts in strings:\n",
    "        try:\n",
    "            houses.append(get_details(soup, jump, facts))\n",
    "            break\n",
    "        except:\n",
    "            continue\n",
    "    driver.quit()\n",
    "    time.sleep(1)"
   ]
  },
  {
   "cell_type": "code",
   "execution_count": null,
   "metadata": {},
   "outputs": [],
   "source": [
    "myfile = \"page_source1870\"\n",
    "with open(myfile, \"r\") as file:\n",
    "    page = file.read()\n",
    "soup = BeautifulSoup(page,'lxml')\n",
    "outp = soup.find('div', {'class':'Grid__GridContainer-sc-5ig2n4-1 eVbKXM'})\n",
    "\n",
    "# info at the top: price, # of bed & bath, sqft etc.\n",
    "price = soup.find('div', {'class':'Text__TextBase-sc-1i9uasc-0-div Text__TextContainerBase-sc-1i9uasc-1 qAaUO'}).text\n",
    "bed = soup.find_all('li', {'data-testid':'bed'})[1].text\n",
    "bath = soup.find_all('li', {'data-testid':'bath'})[1].text\n",
    "sqft = soup.find_all('li', {'data-testid':'floor'})[1].text\n",
    "area = outp.find('a').text\n",
    "zipcode = outp.find_all('span')[1].text\n",
    "address = outp.find_all('span')[0].text\n",
    "date_sold = soup.find('div', {'class':'Text__TextBase-sc-1i9uasc-0-div Text__TextContainerBase-sc-1i9uasc-1 cERLyX'}).text\n",
    "\n",
    "\n",
    "\n",
    "# info in the bottom: home_type, sqft, lot_size, year_built\n",
    "home_type = features_detail.find_all('li', {'class':'FeatureList__FeatureListItem-iipbki-0 fKDDGQ'})[0].text\n",
    "sqft_price = features_detail.find_all('li', {'class':'FeatureList__FeatureListItem-iipbki-0 fKDDGQ'})[1].text\n",
    "lot_size = features_detail.find_all('li', {'class':'FeatureList__FeatureListItem-iipbki-0 fKDDGQ'})[2].text\n",
    "year_built = features_detail.find_all('li', {'class':'FeatureList__FeatureListItem-iipbki-0 fKDDGQ'})[3].text\n",
    "year_or_hoafee = features_detail.find_all('li', {'class':'FeatureList__FeatureListItem-iipbki-0 fKDDGQ'})[4].text\n",
    "\n",
    "price, bed,bath,sqft, area,zipcode,address, date_sold, home_type, sqft_price, lot_size, year_built, year_or_hoafee"
   ]
  }
 ],
 "metadata": {
  "kernelspec": {
   "display_name": "Python 3",
   "language": "python",
   "name": "python3"
  },
  "language_info": {
   "codemirror_mode": {
    "name": "ipython",
    "version": 3
   },
   "file_extension": ".py",
   "mimetype": "text/x-python",
   "name": "python",
   "nbconvert_exporter": "python",
   "pygments_lexer": "ipython3",
   "version": "3.7.6"
  }
 },
 "nbformat": 4,
 "nbformat_minor": 2
}
